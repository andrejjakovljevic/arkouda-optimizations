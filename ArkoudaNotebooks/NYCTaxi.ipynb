{
 "cells": [
  {
   "cell_type": "markdown",
   "metadata": {},
   "source": [
    "# Using New York City Taxi Data to illistrate using Arkouda with Pandas/NumPy\n",
    "\n",
    "This notebook shows some examples of how to interoperate between Pandas and Arkouda at a small scale to allow it to be run on a 16GB laptop.\n",
    "Remember, Arkouda is not trying to replace Pandas but to allow for some Pandas-style operation at a much larger scale. In our experience Pandas can handle dataframes up to about **500 million rows** before performance becomes a real issue, this is provided that you run on a sufficently capable compute server. Arkouda breaks the shared memory paradigm and scales its operations to dataframes with over **200 billion rows**, maybe even a trillion. In practice we have run Arkouda server operations on columns of one trillion elements running on 512 compute nodes. This yielded a **>20TB dataframe** in Arkouda.\n",
    "\n",
    "- Import Arkouda package and connect to the Arkouda server\n",
    "- import other useful packages\n",
    "- Define some python helper functions for ETL (Extract/Transform/Load)\n",
    "- Define a python function to transfer dataframes from Pandas to Arkouda\n",
    "- Read NYC taxi csv into Pandas\n",
    "- Put dataframe columns into the Arkouda server\n",
    "- Compute taxi ride duration in Pandas and in Arkouda and histogram data\n",
    "- Read NYC Taxi Zone Lookup Table (tzlut) into Pandas\n",
    "- Transfer tzlut to Arkouda\n",
    "- Compute something with Groupby/aggregate in Pandas and in Arkouda\n",
    "  - Groupby on pickup and dropoff location ids\n",
    "  - use groupby/aggregate on edge list to compute different things\n",
    "    - min/max/mean/std distance between location ids\n",
    "    - min/max/mean/std time between location ids\n",
    "    - number of trips between location ids\n",
    "    - other things\n",
    "  - \n",
    "  - other things\n",
    "- model number of taxis at a given time\n",
    "- model taxis as specific entities (Kalman filter?)\n",
    "  - use time and location ids\n",
    "  - probability of paths of taxis\n",
    "  - ...\n",
    "- other things?\n",
    "\n",
    "New York City Taxi Data\n",
    "----------------------------------\n",
    "[Yellow Trips Data Dictionary](https://www1.nyc.gov/assets/tlc/downloads/pdf/data_dictionary_trip_records_yellow.pdf)\n",
    "\n",
    "[NYC Yellow Taxi Trip Records Jan 2020](https://s3.amazonaws.com/nyc-tlc/trip+data/yellow_tripdata_2020-01.csv)\n",
    "\n",
    "[Green Trips Data Dictionary](https://www1.nyc.gov/assets/tlc/downloads/pdf/data_dictionary_trip_records_green.pdf)\n",
    "\n",
    "[NYC Green  Taxi Trip Records Jan 2020](https://s3.amazonaws.com/nyc-tlc/trip+data/green_tripdata_2020-01.csv)\n",
    "\n",
    "[NYC Taxi Zone Lookup Table](https://s3.amazonaws.com/nyc-tlc/misc/taxi+_zone_lookup.csv)\n",
    "\n",
    "[NYC Taxi Zone Shapefile](https://s3.amazonaws.com/nyc-tlc/misc/taxi_zones.zip)"
   ]
  },
  {
   "cell_type": "markdown",
   "metadata": {},
   "source": [
    "### Import Arkouda package and connect to the server"
   ]
  },
  {
   "cell_type": "code",
   "execution_count": 1,
   "metadata": {},
   "outputs": [
    {
     "name": "stdout",
     "output_type": "stream",
     "text": [
      "    _         _                   _       \n",
      "   / \\   _ __| | _____  _   _  __| | __ _ \n",
      "  / _ \\ | '__| |/ / _ \\| | | |/ _` |/ _` |\n",
      " / ___ \\| |  |   < (_) | |_| | (_| | (_| |\n",
      "/_/   \\_\\_|  |_|\\_\\___/ \\__,_|\\__,_|\\__,_|\n",
      "                                          \n",
      "\n",
      "Client Version: 2020.07.07\n"
     ]
    },
    {
     "name": "stderr",
     "output_type": "stream",
     "text": [
      "connected to arkouda server tcp://*:5555\n"
     ]
    }
   ],
   "source": [
    "import arkouda as ak\n",
    "ak.connect(connect_url=\"tcp://MacBook-Pro.local:5555\")"
   ]
  },
  {
   "cell_type": "markdown",
   "metadata": {},
   "source": [
    "### Import the other packages"
   ]
  },
  {
   "cell_type": "code",
   "execution_count": 2,
   "metadata": {},
   "outputs": [],
   "source": [
    "import pandas as pd\n",
    "import numpy as np\n",
    "import math\n",
    "import matplotlib.pyplot as plt\n",
    "import gc"
   ]
  },
  {
   "cell_type": "markdown",
   "metadata": {},
   "source": [
    "### Conversion functions for ETL"
   ]
  },
  {
   "cell_type": "code",
   "execution_count": 3,
   "metadata": {},
   "outputs": [],
   "source": [
    "# conversion from csv field to int64\n",
    "# try to convert to int, on exception (empty or other string) convert to 0\n",
    "def cvt_to_int64(v):\n",
    "    try:\n",
    "        return np.int64(v)\n",
    "    except:\n",
    "        return np.int64(0)  \n",
    "\n",
    "# conversion from csv field to string\n",
    "# try to convert to int, on exception (empty or other string) convert to 0\n",
    "def cvt_to_string(v):\n",
    "    try:\n",
    "        if v == '':\n",
    "            return 'N/A'\n",
    "        else:\n",
    "            return str(v)\n",
    "    except:\n",
    "        return 'N/A'\n",
    "\n",
    "# conversion from csv field (Y,N,empty) to bool\n",
    "# on Y convert to True, on N or empty convert to False\n",
    "def cvt_YN_to_bool(v):\n",
    "    if v == 'Y':\n",
    "        return True\n",
    "    else:\n",
    "        return False"
   ]
  },
  {
   "cell_type": "markdown",
   "metadata": {},
   "source": [
    "### Define function to transfer dataframe to dictionary of Arkouda arrays"
   ]
  },
  {
   "cell_type": "code",
   "execution_count": 4,
   "metadata": {},
   "outputs": [],
   "source": [
    "# put data frame columns into arkouda server and return a dict of the pdarrays\n",
    "# convert some columns into data types the server can understand\n",
    "def ak_create_akdict_from_df(df):\n",
    "    akdict = {}\n",
    "    for cname in df.keys():\n",
    "        if df[cname].dtype.name == 'object':\n",
    "            akdict[cname] = ak.from_series(df[cname],dtype=np.str)\n",
    "        else:\n",
    "            akdict[cname] = ak.from_series(df[cname])\n",
    "\n",
    "    return akdict"
   ]
  },
  {
   "cell_type": "markdown",
   "metadata": {},
   "source": [
    "### Helper functions"
   ]
  },
  {
   "cell_type": "code",
   "execution_count": 5,
   "metadata": {},
   "outputs": [],
   "source": [
    "# returns minutes as a float \n",
    "def ns_to_min(v):\n",
    "    return (v / (1e9 * 60.0))\n",
    "\n",
    "# returns nanoseconds as an int\n",
    "def min_to_ns(v):\n",
    "    return (int(v * 1_000_000_000 * 60))"
   ]
  },
  {
   "cell_type": "markdown",
   "metadata": {},
   "source": [
    "## Yellow taxi trip data"
   ]
  },
  {
   "cell_type": "markdown",
   "metadata": {},
   "source": [
    "### Read in the data"
   ]
  },
  {
   "cell_type": "code",
   "execution_count": 6,
   "metadata": {},
   "outputs": [],
   "source": [
    "# Read in yellow taxi data\n",
    "# per yellow data dictionary convert to data types Arkouda can handle\n",
    "# int64, float64, bool\n",
    "cvt = {'VendorID': cvt_to_int64, 'passenger_count': cvt_to_int64, 'RatecodeID': cvt_to_int64,\n",
    "       'store_and_fwd_flag': cvt_YN_to_bool,\n",
    "       'PULocationID': cvt_to_int64, 'DOLocationID':cvt_to_int64, 'payment_type': cvt_to_int64}\n",
    "# explicitly parse date-time fields\n",
    "parse_dates_lst = ['tpep_pickup_datetime','tpep_dropoff_datetime']\n",
    "# call read_csv to parse data with these options\n",
    "ydf = pd.read_csv(\"./yellow_tripdata_2020-01.csv\",\n",
    "                  converters=cvt, header=0, low_memory=False,\n",
    "                  parse_dates=parse_dates_lst, infer_datetime_format=True)"
   ]
  },
  {
   "cell_type": "markdown",
   "metadata": {},
   "source": [
    "### Print out the dataframe"
   ]
  },
  {
   "cell_type": "code",
   "execution_count": 7,
   "metadata": {},
   "outputs": [
    {
     "data": {
      "text/plain": "         VendorID tpep_pickup_datetime tpep_dropoff_datetime  passenger_count  \\\n0               1  2020-01-01 00:28:15   2020-01-01 00:33:03                1   \n1               1  2020-01-01 00:35:39   2020-01-01 00:43:04                1   \n2               1  2020-01-01 00:47:41   2020-01-01 00:53:52                1   \n3               1  2020-01-01 00:55:23   2020-01-01 01:00:14                1   \n4               2  2020-01-01 00:01:58   2020-01-01 00:04:16                1   \n...           ...                  ...                   ...              ...   \n6405003         0  2020-01-31 22:51:00   2020-01-31 23:22:00                0   \n6405004         0  2020-01-31 22:10:00   2020-01-31 23:26:00                0   \n6405005         0  2020-01-31 22:50:07   2020-01-31 23:17:57                0   \n6405006         0  2020-01-31 22:25:53   2020-01-31 22:48:32                0   \n6405007         0  2020-01-31 22:44:00   2020-01-31 23:06:00                0   \n\n         trip_distance  RatecodeID  store_and_fwd_flag  PULocationID  \\\n0                 1.20           1               False           238   \n1                 1.20           1               False           239   \n2                 0.60           1               False           238   \n3                 0.80           1               False           238   \n4                 0.00           1               False           193   \n...                ...         ...                 ...           ...   \n6405003           3.24           0               False           237   \n6405004          22.13           0               False           259   \n6405005          10.51           0               False           137   \n6405006           5.49           0               False            50   \n6405007          11.60           0               False           179   \n\n         DOLocationID  payment_type  fare_amount  extra  mta_tax  tip_amount  \\\n0                 239             1         6.00   3.00      0.5        1.47   \n1                 238             1         7.00   3.00      0.5        1.50   \n2                 238             1         6.00   3.00      0.5        1.00   \n3                 151             1         5.50   0.50      0.5        1.36   \n4                 193             2         3.50   0.50      0.5        0.00   \n...               ...           ...          ...    ...      ...         ...   \n6405003           234             0        17.59   2.75      0.5        0.00   \n6405004            45             0        46.67   2.75      0.5        0.00   \n6405005           169             0        48.85   2.75      0.0        0.00   \n6405006            42             0        27.17   2.75      0.0        0.00   \n6405007           205             0        54.56   2.75      0.5        0.00   \n\n         tolls_amount  improvement_surcharge  total_amount  \\\n0                0.00                    0.3         11.27   \n1                0.00                    0.3         12.30   \n2                0.00                    0.3         10.80   \n3                0.00                    0.3          8.16   \n4                0.00                    0.3          4.80   \n...               ...                    ...           ...   \n6405003          0.00                    0.3         21.14   \n6405004         12.24                    0.3         62.46   \n6405005          0.00                    0.3         51.90   \n6405006          0.00                    0.3         30.22   \n6405007          0.00                    0.3         58.11   \n\n         congestion_surcharge  \n0                         2.5  \n1                         2.5  \n2                         2.5  \n3                         0.0  \n4                         0.0  \n...                       ...  \n6405003                   0.0  \n6405004                   0.0  \n6405005                   0.0  \n6405006                   0.0  \n6405007                   0.0  \n\n[6405008 rows x 18 columns]",
      "text/html": "<div>\n<style scoped>\n    .dataframe tbody tr th:only-of-type {\n        vertical-align: middle;\n    }\n\n    .dataframe tbody tr th {\n        vertical-align: top;\n    }\n\n    .dataframe thead th {\n        text-align: right;\n    }\n</style>\n<table border=\"1\" class=\"dataframe\">\n  <thead>\n    <tr style=\"text-align: right;\">\n      <th></th>\n      <th>VendorID</th>\n      <th>tpep_pickup_datetime</th>\n      <th>tpep_dropoff_datetime</th>\n      <th>passenger_count</th>\n      <th>trip_distance</th>\n      <th>RatecodeID</th>\n      <th>store_and_fwd_flag</th>\n      <th>PULocationID</th>\n      <th>DOLocationID</th>\n      <th>payment_type</th>\n      <th>fare_amount</th>\n      <th>extra</th>\n      <th>mta_tax</th>\n      <th>tip_amount</th>\n      <th>tolls_amount</th>\n      <th>improvement_surcharge</th>\n      <th>total_amount</th>\n      <th>congestion_surcharge</th>\n    </tr>\n  </thead>\n  <tbody>\n    <tr>\n      <th>0</th>\n      <td>1</td>\n      <td>2020-01-01 00:28:15</td>\n      <td>2020-01-01 00:33:03</td>\n      <td>1</td>\n      <td>1.20</td>\n      <td>1</td>\n      <td>False</td>\n      <td>238</td>\n      <td>239</td>\n      <td>1</td>\n      <td>6.00</td>\n      <td>3.00</td>\n      <td>0.5</td>\n      <td>1.47</td>\n      <td>0.00</td>\n      <td>0.3</td>\n      <td>11.27</td>\n      <td>2.5</td>\n    </tr>\n    <tr>\n      <th>1</th>\n      <td>1</td>\n      <td>2020-01-01 00:35:39</td>\n      <td>2020-01-01 00:43:04</td>\n      <td>1</td>\n      <td>1.20</td>\n      <td>1</td>\n      <td>False</td>\n      <td>239</td>\n      <td>238</td>\n      <td>1</td>\n      <td>7.00</td>\n      <td>3.00</td>\n      <td>0.5</td>\n      <td>1.50</td>\n      <td>0.00</td>\n      <td>0.3</td>\n      <td>12.30</td>\n      <td>2.5</td>\n    </tr>\n    <tr>\n      <th>2</th>\n      <td>1</td>\n      <td>2020-01-01 00:47:41</td>\n      <td>2020-01-01 00:53:52</td>\n      <td>1</td>\n      <td>0.60</td>\n      <td>1</td>\n      <td>False</td>\n      <td>238</td>\n      <td>238</td>\n      <td>1</td>\n      <td>6.00</td>\n      <td>3.00</td>\n      <td>0.5</td>\n      <td>1.00</td>\n      <td>0.00</td>\n      <td>0.3</td>\n      <td>10.80</td>\n      <td>2.5</td>\n    </tr>\n    <tr>\n      <th>3</th>\n      <td>1</td>\n      <td>2020-01-01 00:55:23</td>\n      <td>2020-01-01 01:00:14</td>\n      <td>1</td>\n      <td>0.80</td>\n      <td>1</td>\n      <td>False</td>\n      <td>238</td>\n      <td>151</td>\n      <td>1</td>\n      <td>5.50</td>\n      <td>0.50</td>\n      <td>0.5</td>\n      <td>1.36</td>\n      <td>0.00</td>\n      <td>0.3</td>\n      <td>8.16</td>\n      <td>0.0</td>\n    </tr>\n    <tr>\n      <th>4</th>\n      <td>2</td>\n      <td>2020-01-01 00:01:58</td>\n      <td>2020-01-01 00:04:16</td>\n      <td>1</td>\n      <td>0.00</td>\n      <td>1</td>\n      <td>False</td>\n      <td>193</td>\n      <td>193</td>\n      <td>2</td>\n      <td>3.50</td>\n      <td>0.50</td>\n      <td>0.5</td>\n      <td>0.00</td>\n      <td>0.00</td>\n      <td>0.3</td>\n      <td>4.80</td>\n      <td>0.0</td>\n    </tr>\n    <tr>\n      <th>...</th>\n      <td>...</td>\n      <td>...</td>\n      <td>...</td>\n      <td>...</td>\n      <td>...</td>\n      <td>...</td>\n      <td>...</td>\n      <td>...</td>\n      <td>...</td>\n      <td>...</td>\n      <td>...</td>\n      <td>...</td>\n      <td>...</td>\n      <td>...</td>\n      <td>...</td>\n      <td>...</td>\n      <td>...</td>\n      <td>...</td>\n    </tr>\n    <tr>\n      <th>6405003</th>\n      <td>0</td>\n      <td>2020-01-31 22:51:00</td>\n      <td>2020-01-31 23:22:00</td>\n      <td>0</td>\n      <td>3.24</td>\n      <td>0</td>\n      <td>False</td>\n      <td>237</td>\n      <td>234</td>\n      <td>0</td>\n      <td>17.59</td>\n      <td>2.75</td>\n      <td>0.5</td>\n      <td>0.00</td>\n      <td>0.00</td>\n      <td>0.3</td>\n      <td>21.14</td>\n      <td>0.0</td>\n    </tr>\n    <tr>\n      <th>6405004</th>\n      <td>0</td>\n      <td>2020-01-31 22:10:00</td>\n      <td>2020-01-31 23:26:00</td>\n      <td>0</td>\n      <td>22.13</td>\n      <td>0</td>\n      <td>False</td>\n      <td>259</td>\n      <td>45</td>\n      <td>0</td>\n      <td>46.67</td>\n      <td>2.75</td>\n      <td>0.5</td>\n      <td>0.00</td>\n      <td>12.24</td>\n      <td>0.3</td>\n      <td>62.46</td>\n      <td>0.0</td>\n    </tr>\n    <tr>\n      <th>6405005</th>\n      <td>0</td>\n      <td>2020-01-31 22:50:07</td>\n      <td>2020-01-31 23:17:57</td>\n      <td>0</td>\n      <td>10.51</td>\n      <td>0</td>\n      <td>False</td>\n      <td>137</td>\n      <td>169</td>\n      <td>0</td>\n      <td>48.85</td>\n      <td>2.75</td>\n      <td>0.0</td>\n      <td>0.00</td>\n      <td>0.00</td>\n      <td>0.3</td>\n      <td>51.90</td>\n      <td>0.0</td>\n    </tr>\n    <tr>\n      <th>6405006</th>\n      <td>0</td>\n      <td>2020-01-31 22:25:53</td>\n      <td>2020-01-31 22:48:32</td>\n      <td>0</td>\n      <td>5.49</td>\n      <td>0</td>\n      <td>False</td>\n      <td>50</td>\n      <td>42</td>\n      <td>0</td>\n      <td>27.17</td>\n      <td>2.75</td>\n      <td>0.0</td>\n      <td>0.00</td>\n      <td>0.00</td>\n      <td>0.3</td>\n      <td>30.22</td>\n      <td>0.0</td>\n    </tr>\n    <tr>\n      <th>6405007</th>\n      <td>0</td>\n      <td>2020-01-31 22:44:00</td>\n      <td>2020-01-31 23:06:00</td>\n      <td>0</td>\n      <td>11.60</td>\n      <td>0</td>\n      <td>False</td>\n      <td>179</td>\n      <td>205</td>\n      <td>0</td>\n      <td>54.56</td>\n      <td>2.75</td>\n      <td>0.5</td>\n      <td>0.00</td>\n      <td>0.00</td>\n      <td>0.3</td>\n      <td>58.11</td>\n      <td>0.0</td>\n    </tr>\n  </tbody>\n</table>\n<p>6405008 rows × 18 columns</p>\n</div>"
     },
     "execution_count": 7,
     "metadata": {},
     "output_type": "execute_result"
    }
   ],
   "source": [
    "#print out dataframe\n",
    "ydf"
   ]
  },
  {
   "cell_type": "markdown",
   "metadata": {},
   "source": [
    "### Which columns did we read in?"
   ]
  },
  {
   "cell_type": "code",
   "execution_count": 8,
   "metadata": {},
   "outputs": [
    {
     "name": "stdout",
     "output_type": "stream",
     "text": [
      "Index(['VendorID', 'tpep_pickup_datetime', 'tpep_dropoff_datetime',\n",
      "       'passenger_count', 'trip_distance', 'RatecodeID', 'store_and_fwd_flag',\n",
      "       'PULocationID', 'DOLocationID', 'payment_type', 'fare_amount', 'extra',\n",
      "       'mta_tax', 'tip_amount', 'tolls_amount', 'improvement_surcharge',\n",
      "       'total_amount', 'congestion_surcharge'],\n",
      "      dtype='object')\n"
     ]
    }
   ],
   "source": [
    "# see which keys we read in from first line of csv data file\n",
    "#print(ydf.keys())\n",
    "print(ydf.columns)"
   ]
  },
  {
   "cell_type": "markdown",
   "metadata": {},
   "source": [
    "### Convert the dataframe to a dictionary of Arkouda arrays"
   ]
  },
  {
   "cell_type": "code",
   "execution_count": 9,
   "metadata": {},
   "outputs": [],
   "source": [
    "# put data frame columns into arkouda server\n",
    "# convert some columns into data types the server can understand\n",
    "akdict = ak_create_akdict_from_df(ydf)"
   ]
  },
  {
   "cell_type": "markdown",
   "metadata": {},
   "source": [
    "### Show which columns got transfered to the Arkouda server "
   ]
  },
  {
   "cell_type": "code",
   "execution_count": 10,
   "metadata": {},
   "outputs": [
    {
     "name": "stdout",
     "output_type": "stream",
     "text": [
      "dict_keys(['VendorID', 'tpep_pickup_datetime', 'tpep_dropoff_datetime', 'passenger_count', 'trip_distance', 'RatecodeID', 'store_and_fwd_flag', 'PULocationID', 'DOLocationID', 'payment_type', 'fare_amount', 'extra', 'mta_tax', 'tip_amount', 'tolls_amount', 'improvement_surcharge', 'total_amount', 'congestion_surcharge'])\n"
     ]
    }
   ],
   "source": [
    "# which keys made it over to the server\n",
    "print(akdict.keys())"
   ]
  },
  {
   "cell_type": "markdown",
   "metadata": {},
   "source": [
    "### Look at the symbol table of the Arkouda server"
   ]
  },
  {
   "cell_type": "code",
   "execution_count": 11,
   "metadata": {},
   "outputs": [
    {
     "name": "stdout",
     "output_type": "stream",
     "text": [
      "name:\"id_12\" dtype:\"float64\" size:6405008 ndim:1 shape:(6405008) itemsize:8\n",
      "name:\"id_13\" dtype:\"float64\" size:6405008 ndim:1 shape:(6405008) itemsize:8\n",
      "name:\"id_10\" dtype:\"int64\" size:6405008 ndim:1 shape:(6405008) itemsize:8\n",
      "name:\"id_11\" dtype:\"float64\" size:6405008 ndim:1 shape:(6405008) itemsize:8\n",
      "name:\"id_7\" dtype:\"bool\" size:6405008 ndim:1 shape:(6405008) itemsize:1\n",
      "name:\"id_6\" dtype:\"int64\" size:6405008 ndim:1 shape:(6405008) itemsize:8\n",
      "name:\"id_5\" dtype:\"float64\" size:6405008 ndim:1 shape:(6405008) itemsize:8\n",
      "name:\"id_4\" dtype:\"int64\" size:6405008 ndim:1 shape:(6405008) itemsize:8\n",
      "name:\"id_3\" dtype:\"int64\" size:6405008 ndim:1 shape:(6405008) itemsize:8\n",
      "name:\"id_2\" dtype:\"int64\" size:6405008 ndim:1 shape:(6405008) itemsize:8\n",
      "name:\"id_1\" dtype:\"int64\" size:6405008 ndim:1 shape:(6405008) itemsize:8\n",
      "name:\"id_18\" dtype:\"float64\" size:6405008 ndim:1 shape:(6405008) itemsize:8\n",
      "name:\"id_9\" dtype:\"int64\" size:6405008 ndim:1 shape:(6405008) itemsize:8\n",
      "name:\"id_8\" dtype:\"int64\" size:6405008 ndim:1 shape:(6405008) itemsize:8\n",
      "name:\"id_16\" dtype:\"float64\" size:6405008 ndim:1 shape:(6405008) itemsize:8\n",
      "name:\"id_17\" dtype:\"float64\" size:6405008 ndim:1 shape:(6405008) itemsize:8\n",
      "name:\"id_14\" dtype:\"float64\" size:6405008 ndim:1 shape:(6405008) itemsize:8\n",
      "name:\"id_15\" dtype:\"float64\" size:6405008 ndim:1 shape:(6405008) itemsize:8\n",
      "\n"
     ]
    }
   ],
   "source": [
    "# print out the arkouda server symbol table\n",
    "print(ak.info(ak.AllSymbols))"
   ]
  },
  {
   "cell_type": "markdown",
   "metadata": {},
   "source": [
    "### Do a simple computation in the Arkouda server about pickup-time indexed logically by the store-and-forward flag"
   ]
  },
  {
   "cell_type": "code",
   "execution_count": 12,
   "metadata": {},
   "outputs": [
    {
     "name": "stdout",
     "output_type": "stream",
     "text": [
      "6405008 6336888 68120\n"
     ]
    },
    {
     "data": {
      "text/plain": "True"
     },
     "execution_count": 12,
     "metadata": {},
     "output_type": "execute_result"
    }
   ],
   "source": [
    "# how many records made it to the server?\n",
    "numTotal = akdict['tpep_pickup_datetime'].size\n",
    "\n",
    "# use the store_and_forward column to index tpep_pickup_datetime\n",
    "# see how many times was false\n",
    "numFalse = akdict['tpep_pickup_datetime'][~akdict['store_and_fwd_flag']].size\n",
    "\n",
    "# use the store_and_forward column to index tpep_pickup_datetime\n",
    "# see how many times was true\n",
    "numTrue = akdict['tpep_pickup_datetime'][akdict['store_and_fwd_flag']].size\n",
    "\n",
    "print(numTotal,numFalse,numTrue)\n",
    "numTotal == numFalse+numTrue"
   ]
  },
  {
   "cell_type": "markdown",
   "metadata": {},
   "source": [
    "### Ride duration in Pandas"
   ]
  },
  {
   "cell_type": "code",
   "execution_count": 13,
   "metadata": {},
   "outputs": [
    {
     "name": "stdout",
     "output_type": "stream",
     "text": [
      "min =  -2770.366666666667 max =  8525.116666666667\n",
      "mean =  15.950077949421253 stdev =  63.2299915764044\n",
      "min_ride =  -2771\n",
      "max_ride =  8526\n",
      "11297 cnts      =  [1 0 0 ... 0 0 1]\n",
      "11298 bin edges =  [-2770.36666667 -2769.36680092 -2768.36693517 ...  8523.11693517\n",
      "  8524.11680092  8525.11666667]\n"
     ]
    },
    {
     "data": {
      "text/plain": "<Figure size 432x288 with 1 Axes>",
      "image/png": "[encoded data removed]"
     },
     "metadata": {
      "needs_background": "light"
     },
     "output_type": "display_data"
    }
   ],
   "source": [
    "#Pandas ride duration \n",
    "ride_duration = ydf['tpep_dropoff_datetime'] - ydf['tpep_pickup_datetime']\n",
    "# pull out ride duration in minutes\n",
    "ride_duration = ride_duration.dt.total_seconds() / 60 # in minutes\n",
    "\n",
    "print(\"min = \", ride_duration.min(),\"max = \", ride_duration.max())\n",
    "print(\"mean = \",ride_duration.mean(),\"stdev = \",ride_duration.std())\n",
    "\n",
    "# how long was the min/max ride to the next integer minute\n",
    "min_ride = math.floor(ride_duration.min())\n",
    "print(\"min_ride = \", min_ride)\n",
    "max_ride = math.ceil(ride_duration.max())\n",
    "print(\"max_ride = \", max_ride)\n",
    "\n",
    "# histogram the ride time bin by the minute\n",
    "nBins = max_ride - min_ride\n",
    "cnts,binEdges = np.histogram(ride_duration, bins=nBins)\n",
    "\n",
    "print(cnts.size,    \"cnts      = \", cnts)\n",
    "print(binEdges.size,\"bin edges = \", binEdges)\n",
    "\n",
    "# plot the histogram the ride time, bin by the minute\n",
    "plt.plot(binEdges[:-1],cnts)\n",
    "plt.yscale('log')\n",
    "plt.xscale('linear')\n",
    "plt.show()"
   ]
  },
  {
   "cell_type": "markdown",
   "metadata": {},
   "source": [
    "### Ride duration in Arkouda"
   ]
  },
  {
   "cell_type": "code",
   "execution_count": 18,
   "metadata": {},
   "outputs": [
    {
     "name": "stdout",
     "output_type": "stream",
     "text": [
      "min =  -2770.366666666667 max =  8525.116666666667\n",
      "mean =  15.95007794942138 stdev =  63.22998664038934\n",
      "min_ride =  -2771\n",
      "max_ride =  8526\n",
      "[-2770.36666667 -2769.36680092 -2768.36693517 ...  8523.11693517\n",
      "  8524.11680092  8525.11666667]\n",
      "11297 cnts      =  [1 0 0 ... 0 0 1]\n",
      "11298 bin edges =  [-2770.36666667 -2769.36680092 -2768.36693517 ...  8523.11693517\n",
      "  8524.11680092  8525.11666667]\n"
     ]
    },
    {
     "data": {
      "text/plain": "<Figure size 432x288 with 1 Axes>",
      "image/png": "[encoded data removed]"
     },
     "metadata": {
      "needs_background": "light"
     },
     "output_type": "display_data"
    }
   ],
   "source": [
    "# take delta for ride duration\n",
    "ride_duration = akdict['tpep_dropoff_datetime'] - akdict['tpep_pickup_datetime']\n",
    "# pull out ride duration in minutes\n",
    "ride_duration = ns_to_min(ride_duration)\n",
    "\n",
    "print(\"min = \", ride_duration.min(),\"max = \", ride_duration.max())\n",
    "print(\"mean = \",ride_duration.mean(),\"stdev = \",ride_duration.std())\n",
    "\n",
    "# how long was the min/max ride to the next integer minute\n",
    "min_ride = math.floor(ride_duration.min())\n",
    "print(\"min_ride = \", min_ride)\n",
    "max_ride = math.ceil(ride_duration.max())\n",
    "print(\"max_ride = \", max_ride)\n",
    "\n",
    "# histogram the ride time bin by the minute\n",
    "nBins = max_ride - min_ride\n",
    "cnts = ak.histogram(ride_duration, bins=nBins)\n",
    "\n",
    "# create bin edges because ak.histogram doesn't\n",
    "binEdges = np.linspace(ride_duration.min(), ride_duration.max(), nBins+1)\n",
    "print(binEdges)\n",
    "\n",
    "print(cnts.size,    \"cnts      = \", cnts)\n",
    "print(binEdges.size,\"bin edges = \", binEdges)\n",
    "\n",
    "# plot the histogram the ride time, bin by the minute\n",
    "plt.plot(binEdges[:-1],cnts.to_ndarray())\n",
    "plt.yscale('log')\n",
    "plt.xscale('linear')\n",
    "plt.show()"
   ]
  },
  {
   "cell_type": "markdown",
   "metadata": {},
   "source": [
    "### Compute somehting with trip distance in Pandas"
   ]
  },
  {
   "cell_type": "code",
   "execution_count": 19,
   "metadata": {},
   "outputs": [
    {
     "name": "stdout",
     "output_type": "stream",
     "text": [
      "-30.62 210240.07\n",
      "2.9296439333096878 83.15910597325029\n"
     ]
    },
    {
     "data": {
      "text/plain": "<Figure size 576x432 with 1 Axes>",
      "image/png": "[encoded data removed]"
     },
     "metadata": {
      "needs_background": "light"
     },
     "output_type": "display_data"
    }
   ],
   "source": [
    "print(ydf['trip_distance'].min(), ydf['trip_distance'].max())\n",
    "print(ydf['trip_distance'].mean(), ydf['trip_distance'].std())\n",
    "\n",
    "plt.figure(figsize=(8,6))\n",
    "plt.hist(ydf['trip_distance'],bins=2000)\n",
    "#ax = plt.gca()\n",
    "#ax.set_xlim((ydf['trip_distance'].min(),ydf['trip_distance'].max()))\n",
    "plt.yscale('log')\n",
    "plt.xscale('log')\n",
    "plt.show()"
   ]
  },
  {
   "cell_type": "markdown",
   "metadata": {},
   "source": [
    "### Compute somehting with trip distance in Arkouda"
   ]
  },
  {
   "cell_type": "code",
   "execution_count": null,
   "metadata": {},
   "outputs": [],
   "source": []
  },
  {
   "cell_type": "markdown",
   "metadata": {},
   "source": [
    "## Taxi Zone Lookup Table"
   ]
  },
  {
   "cell_type": "markdown",
   "metadata": {},
   "source": [
    "### Read in the data"
   ]
  },
  {
   "cell_type": "code",
   "execution_count": 20,
   "metadata": {},
   "outputs": [
    {
     "ename": "FileNotFoundError",
     "evalue": "[Errno 2] No such file or directory: '/Volumes/Crucial X8/Data/NYC_taxi/taxi+_zone_lookup.csv'",
     "output_type": "error",
     "traceback": [
      "\u001B[0;31m---------------------------------------------------------------------------\u001B[0m",
      "\u001B[0;31mFileNotFoundError\u001B[0m                         Traceback (most recent call last)",
      "\u001B[0;32m<ipython-input-20-a43e82c104f7>\u001B[0m in \u001B[0;36m<module>\u001B[0;34m\u001B[0m\n\u001B[1;32m      1\u001B[0m \u001B[0;31m# read the taxi-zone-lookup-table\u001B[0m\u001B[0;34m\u001B[0m\u001B[0;34m\u001B[0m\u001B[0m\n\u001B[1;32m      2\u001B[0m \u001B[0mcvt\u001B[0m \u001B[0;34m=\u001B[0m \u001B[0;34m{\u001B[0m\u001B[0;34m'Borough'\u001B[0m\u001B[0;34m:\u001B[0m\u001B[0mcvt_to_string\u001B[0m\u001B[0;34m,\u001B[0m \u001B[0;34m'Zone'\u001B[0m\u001B[0;34m:\u001B[0m\u001B[0mcvt_to_string\u001B[0m\u001B[0;34m,\u001B[0m \u001B[0;34m'service_zone'\u001B[0m\u001B[0;34m:\u001B[0m\u001B[0mcvt_to_string\u001B[0m\u001B[0;34m}\u001B[0m\u001B[0;34m\u001B[0m\u001B[0m\n\u001B[0;32m----> 3\u001B[0;31m \u001B[0mtzlut\u001B[0m \u001B[0;34m=\u001B[0m \u001B[0mpd\u001B[0m\u001B[0;34m.\u001B[0m\u001B[0mread_csv\u001B[0m\u001B[0;34m(\u001B[0m\u001B[0;34m\"/Volumes/Crucial X8/Data/NYC_taxi/taxi+_zone_lookup.csv\"\u001B[0m\u001B[0;34m,\u001B[0m\u001B[0mconverters\u001B[0m\u001B[0;34m=\u001B[0m\u001B[0mcvt\u001B[0m\u001B[0;34m)\u001B[0m\u001B[0;34m\u001B[0m\u001B[0m\n\u001B[0m\u001B[1;32m      4\u001B[0m \u001B[0;31m#tzlut = pd.read_csv(\"../Downloads/taxi+_zone_lookup.csv\")\u001B[0m\u001B[0;34m\u001B[0m\u001B[0;34m\u001B[0m\u001B[0m\n\u001B[1;32m      5\u001B[0m \u001B[0;31m# print out the tzlut which was read from file\u001B[0m\u001B[0;34m\u001B[0m\u001B[0;34m\u001B[0m\u001B[0m\n",
      "\u001B[0;32m/Library/Frameworks/Python.framework/Versions/3.7/lib/python3.7/site-packages/pandas/io/parsers.py\u001B[0m in \u001B[0;36mread_csv\u001B[0;34m(filepath_or_buffer, sep, delimiter, header, names, index_col, usecols, squeeze, prefix, mangle_dupe_cols, dtype, engine, converters, true_values, false_values, skipinitialspace, skiprows, skipfooter, nrows, na_values, keep_default_na, na_filter, verbose, skip_blank_lines, parse_dates, infer_datetime_format, keep_date_col, date_parser, dayfirst, cache_dates, iterator, chunksize, compression, thousands, decimal, lineterminator, quotechar, quoting, doublequote, escapechar, comment, encoding, dialect, error_bad_lines, warn_bad_lines, delim_whitespace, low_memory, memory_map, float_precision)\u001B[0m\n\u001B[1;32m    686\u001B[0m     )\n\u001B[1;32m    687\u001B[0m \u001B[0;34m\u001B[0m\u001B[0m\n\u001B[0;32m--> 688\u001B[0;31m     \u001B[0;32mreturn\u001B[0m \u001B[0m_read\u001B[0m\u001B[0;34m(\u001B[0m\u001B[0mfilepath_or_buffer\u001B[0m\u001B[0;34m,\u001B[0m \u001B[0mkwds\u001B[0m\u001B[0;34m)\u001B[0m\u001B[0;34m\u001B[0m\u001B[0m\n\u001B[0m\u001B[1;32m    689\u001B[0m \u001B[0;34m\u001B[0m\u001B[0m\n\u001B[1;32m    690\u001B[0m \u001B[0;34m\u001B[0m\u001B[0m\n",
      "\u001B[0;32m/Library/Frameworks/Python.framework/Versions/3.7/lib/python3.7/site-packages/pandas/io/parsers.py\u001B[0m in \u001B[0;36m_read\u001B[0;34m(filepath_or_buffer, kwds)\u001B[0m\n\u001B[1;32m    452\u001B[0m \u001B[0;34m\u001B[0m\u001B[0m\n\u001B[1;32m    453\u001B[0m     \u001B[0;31m# Create the parser.\u001B[0m\u001B[0;34m\u001B[0m\u001B[0;34m\u001B[0m\u001B[0m\n\u001B[0;32m--> 454\u001B[0;31m     \u001B[0mparser\u001B[0m \u001B[0;34m=\u001B[0m \u001B[0mTextFileReader\u001B[0m\u001B[0;34m(\u001B[0m\u001B[0mfp_or_buf\u001B[0m\u001B[0;34m,\u001B[0m \u001B[0;34m**\u001B[0m\u001B[0mkwds\u001B[0m\u001B[0;34m)\u001B[0m\u001B[0;34m\u001B[0m\u001B[0m\n\u001B[0m\u001B[1;32m    455\u001B[0m \u001B[0;34m\u001B[0m\u001B[0m\n\u001B[1;32m    456\u001B[0m     \u001B[0;32mif\u001B[0m \u001B[0mchunksize\u001B[0m \u001B[0;32mor\u001B[0m \u001B[0miterator\u001B[0m\u001B[0;34m:\u001B[0m\u001B[0;34m\u001B[0m\u001B[0m\n",
      "\u001B[0;32m/Library/Frameworks/Python.framework/Versions/3.7/lib/python3.7/site-packages/pandas/io/parsers.py\u001B[0m in \u001B[0;36m__init__\u001B[0;34m(self, f, engine, **kwds)\u001B[0m\n\u001B[1;32m    946\u001B[0m             \u001B[0mself\u001B[0m\u001B[0;34m.\u001B[0m\u001B[0moptions\u001B[0m\u001B[0;34m[\u001B[0m\u001B[0;34m\"has_index_names\"\u001B[0m\u001B[0;34m]\u001B[0m \u001B[0;34m=\u001B[0m \u001B[0mkwds\u001B[0m\u001B[0;34m[\u001B[0m\u001B[0;34m\"has_index_names\"\u001B[0m\u001B[0;34m]\u001B[0m\u001B[0;34m\u001B[0m\u001B[0m\n\u001B[1;32m    947\u001B[0m \u001B[0;34m\u001B[0m\u001B[0m\n\u001B[0;32m--> 948\u001B[0;31m         \u001B[0mself\u001B[0m\u001B[0;34m.\u001B[0m\u001B[0m_make_engine\u001B[0m\u001B[0;34m(\u001B[0m\u001B[0mself\u001B[0m\u001B[0;34m.\u001B[0m\u001B[0mengine\u001B[0m\u001B[0;34m)\u001B[0m\u001B[0;34m\u001B[0m\u001B[0m\n\u001B[0m\u001B[1;32m    949\u001B[0m \u001B[0;34m\u001B[0m\u001B[0m\n\u001B[1;32m    950\u001B[0m     \u001B[0;32mdef\u001B[0m \u001B[0mclose\u001B[0m\u001B[0;34m(\u001B[0m\u001B[0mself\u001B[0m\u001B[0;34m)\u001B[0m\u001B[0;34m:\u001B[0m\u001B[0;34m\u001B[0m\u001B[0m\n",
      "\u001B[0;32m/Library/Frameworks/Python.framework/Versions/3.7/lib/python3.7/site-packages/pandas/io/parsers.py\u001B[0m in \u001B[0;36m_make_engine\u001B[0;34m(self, engine)\u001B[0m\n\u001B[1;32m   1178\u001B[0m     \u001B[0;32mdef\u001B[0m \u001B[0m_make_engine\u001B[0m\u001B[0;34m(\u001B[0m\u001B[0mself\u001B[0m\u001B[0;34m,\u001B[0m \u001B[0mengine\u001B[0m\u001B[0;34m=\u001B[0m\u001B[0;34m\"c\"\u001B[0m\u001B[0;34m)\u001B[0m\u001B[0;34m:\u001B[0m\u001B[0;34m\u001B[0m\u001B[0m\n\u001B[1;32m   1179\u001B[0m         \u001B[0;32mif\u001B[0m \u001B[0mengine\u001B[0m \u001B[0;34m==\u001B[0m \u001B[0;34m\"c\"\u001B[0m\u001B[0;34m:\u001B[0m\u001B[0;34m\u001B[0m\u001B[0m\n\u001B[0;32m-> 1180\u001B[0;31m             \u001B[0mself\u001B[0m\u001B[0;34m.\u001B[0m\u001B[0m_engine\u001B[0m \u001B[0;34m=\u001B[0m \u001B[0mCParserWrapper\u001B[0m\u001B[0;34m(\u001B[0m\u001B[0mself\u001B[0m\u001B[0;34m.\u001B[0m\u001B[0mf\u001B[0m\u001B[0;34m,\u001B[0m \u001B[0;34m**\u001B[0m\u001B[0mself\u001B[0m\u001B[0;34m.\u001B[0m\u001B[0moptions\u001B[0m\u001B[0;34m)\u001B[0m\u001B[0;34m\u001B[0m\u001B[0m\n\u001B[0m\u001B[1;32m   1181\u001B[0m         \u001B[0;32melse\u001B[0m\u001B[0;34m:\u001B[0m\u001B[0;34m\u001B[0m\u001B[0m\n\u001B[1;32m   1182\u001B[0m             \u001B[0;32mif\u001B[0m \u001B[0mengine\u001B[0m \u001B[0;34m==\u001B[0m \u001B[0;34m\"python\"\u001B[0m\u001B[0;34m:\u001B[0m\u001B[0;34m\u001B[0m\u001B[0m\n",
      "\u001B[0;32m/Library/Frameworks/Python.framework/Versions/3.7/lib/python3.7/site-packages/pandas/io/parsers.py\u001B[0m in \u001B[0;36m__init__\u001B[0;34m(self, src, **kwds)\u001B[0m\n\u001B[1;32m   2008\u001B[0m         \u001B[0mkwds\u001B[0m\u001B[0;34m[\u001B[0m\u001B[0;34m\"usecols\"\u001B[0m\u001B[0;34m]\u001B[0m \u001B[0;34m=\u001B[0m \u001B[0mself\u001B[0m\u001B[0;34m.\u001B[0m\u001B[0musecols\u001B[0m\u001B[0;34m\u001B[0m\u001B[0m\n\u001B[1;32m   2009\u001B[0m \u001B[0;34m\u001B[0m\u001B[0m\n\u001B[0;32m-> 2010\u001B[0;31m         \u001B[0mself\u001B[0m\u001B[0;34m.\u001B[0m\u001B[0m_reader\u001B[0m \u001B[0;34m=\u001B[0m \u001B[0mparsers\u001B[0m\u001B[0;34m.\u001B[0m\u001B[0mTextReader\u001B[0m\u001B[0;34m(\u001B[0m\u001B[0msrc\u001B[0m\u001B[0;34m,\u001B[0m \u001B[0;34m**\u001B[0m\u001B[0mkwds\u001B[0m\u001B[0;34m)\u001B[0m\u001B[0;34m\u001B[0m\u001B[0m\n\u001B[0m\u001B[1;32m   2011\u001B[0m         \u001B[0mself\u001B[0m\u001B[0;34m.\u001B[0m\u001B[0munnamed_cols\u001B[0m \u001B[0;34m=\u001B[0m \u001B[0mself\u001B[0m\u001B[0;34m.\u001B[0m\u001B[0m_reader\u001B[0m\u001B[0;34m.\u001B[0m\u001B[0munnamed_cols\u001B[0m\u001B[0;34m\u001B[0m\u001B[0m\n\u001B[1;32m   2012\u001B[0m \u001B[0;34m\u001B[0m\u001B[0m\n",
      "\u001B[0;32mpandas/_libs/parsers.pyx\u001B[0m in \u001B[0;36mpandas._libs.parsers.TextReader.__cinit__\u001B[0;34m()\u001B[0m\n",
      "\u001B[0;32mpandas/_libs/parsers.pyx\u001B[0m in \u001B[0;36mpandas._libs.parsers.TextReader._setup_parser_source\u001B[0;34m()\u001B[0m\n",
      "\u001B[0;31mFileNotFoundError\u001B[0m: [Errno 2] No such file or directory: '/Volumes/Crucial X8/Data/NYC_taxi/taxi+_zone_lookup.csv'"
     ]
    }
   ],
   "source": [
    "# read the taxi-zone-lookup-table\n",
    "cvt = {'Borough':cvt_to_string, 'Zone':cvt_to_string, 'service_zone':cvt_to_string}\n",
    "tzlut = pd.read_csv(\"/Volumes/Crucial X8/Data/NYC_taxi/taxi+_zone_lookup.csv\",converters=cvt)\n",
    "#tzlut = pd.read_csv(\"../Downloads/taxi+_zone_lookup.csv\")\n",
    "# print out the tzlut which was read from file\n",
    "print(tzlut)\n",
    "\n",
    "# location id is 1-based, index is 0-based\n",
    "# fix it up to be aligned with index in data frame\n",
    "# which means add row zero\n",
    "top_row = pd.DataFrame({'LocationID': [0], 'Borough': ['N/A'], 'Zone': ['N/A'], 'service_zone': ['N/A']})\n",
    "tzlut = pd.concat([top_row, tzlut]).reset_index(drop = True)\n",
    "# print fixed up tzlut\n",
    "print(tzlut)"
   ]
  },
  {
   "cell_type": "markdown",
   "metadata": {},
   "source": [
    "### Convert dataframe to dictionary of Arkouda arrays"
   ]
  },
  {
   "cell_type": "code",
   "execution_count": null,
   "metadata": {},
   "outputs": [],
   "source": [
    "# convert data frame with strings and int64 data\n",
    "aktzlut = ak_create_akdict_from_df(tzlut)"
   ]
  },
  {
   "cell_type": "markdown",
   "metadata": {},
   "source": [
    "### what did we get on the server side"
   ]
  },
  {
   "cell_type": "code",
   "execution_count": null,
   "metadata": {},
   "outputs": [],
   "source": [
    "print(aktzlut)"
   ]
  },
  {
   "cell_type": "markdown",
   "metadata": {},
   "source": [
    "### GroupBy pickup and dropoff location id\n",
    "- Compute something with Groupby/aggregate in Pandas and in Arkouda\n",
    "  - Groupby on pickup and dropoff location ids"
   ]
  },
  {
   "cell_type": "code",
   "execution_count": null,
   "metadata": {},
   "outputs": [],
   "source": [
    "# groupby puckup(PU) and dropoff(DO) location ids(LID)\n",
    "byLIDs = ak.GroupBy((akdict['PULocationID'], akdict['DOLocationID']))\n",
    "# print unique keys\n",
    "print('unique_keys (PU,DO): ', byLIDs.unique_keys)"
   ]
  },
  {
   "cell_type": "markdown",
   "metadata": {},
   "source": [
    "### Use groupby/aggregate on edge list to construct a condensed graph"
   ]
  },
  {
   "cell_type": "code",
   "execution_count": null,
   "metadata": {},
   "outputs": [],
   "source": [
    "# create a condensed graph of LID (PU,DO) pairs with different weights\n",
    "graphLID = {}\n",
    " # vertex names (integer)\n",
    "graphLID['V']    = aktzlut['LocationID']\n",
    "# unique edges\n",
    "graphLID['E']    = byLIDs.unique_keys\n",
    "# edge weight: count of each unique edge\n",
    "graphLID['W_CT'] = byLIDs.count()[1]\n",
    "# edge weight: mean trip distance per edge\n",
    "graphLID['W_TD'] = byLIDs.mean(akdict['trip_distance'])[1]\n",
    "# edge weight: mean ride duration per edge\n",
    "graphLID['W_RD'] = byLIDs.mean(ride_duration)[1]\n",
    "# edge weight: mean fare amount per edge\n",
    "graphLID['W_FA'] = byLIDs.mean(akdict['fare_amount'])[1]\n",
    "# print the graph\n",
    "print(\"graphLID = \", graphLID)"
   ]
  },
  {
   "cell_type": "markdown",
   "metadata": {},
   "source": [
    "### Compute something with the condensed graph"
   ]
  },
  {
   "cell_type": "code",
   "execution_count": null,
   "metadata": {},
   "outputs": [],
   "source": [
    "# Compute something with the condensed graph...\n"
   ]
  },
  {
   "cell_type": "markdown",
   "metadata": {},
   "source": [
    "### Use join-on-eq-with-dt to look at adjacent trips\n",
    "This is one of the most complex operations available in Arkouda and it's not well documented ;-)\n",
    "\n",
    "- `ak.join_on_eq_with_dt(a1, a2, t1, t1, dt, pred, result_limit=1000)`\n",
    "- this function finds places where the first two integer arrays are equal value then uses the predicate to test the second two arrays, if all is true then append indices to result list\n",
    "- so, `if ((a1[i] == a2[j]) and predicate(t1[i],t2[j])) then add (i,j) to the result list`\n",
    "- the `pred` can be `'true_dt'`, `'pos_dt'`, `'abs_dt'`\n",
    "  - `'true_dt'` evaluates to `True` always\n",
    "  - `'pos_dt'` evaluates `((t1     <= t2) && (t2 <= (t1+dt)))`\n",
    "  - `'abs_dt'` evaluates `((t1-dt) <= t2) && (t2 <= (t1+dt)))`\n",
    "- the `result_limit` makes sure you can handle the memory footprint of the result, this isn't implemented well right now in the multi-locale context\n",
    "\n",
    "\n",
    "you can think of this as emitting 2-long chains from the line-graph of edges(trips) where the predicate is true\n",
    "\n",
    "so trip1.DOLocationID is the same as trip2.PULocationID\n",
    "and the second trip happens within time related to the first trip\n"
   ]
  },
  {
   "cell_type": "code",
   "execution_count": null,
   "metadata": {},
   "outputs": [],
   "source": [
    "# ak.join_on_eq_with_dt(a1, a2, t1, t1, dt, pred, result_limit=1000)\n",
    "#\n",
    "# you can think of this as emitting 2-long chains from the line-graph of trips where the predicate is true\n",
    "# so trip1.DOLocationID is the same as trip2.PULocationID\n",
    "# and the second trip happens within time related to the first trip\n",
    "#\n",
    "(I,J) = ak.join_on_eq_with_dt(akdict['DOLocationID'], akdict['PULocationID'],\n",
    "                              akdict['tpep_dropoff_datetime'], akdict['tpep_pickup_datetime'],\n",
    "                              min_to_ns(1), 'pos_dt', result_limit=1_000_000)\n",
    "print(I.size,I,J.size,J)"
   ]
  },
  {
   "cell_type": "markdown",
   "metadata": {},
   "source": [
    "  - use join-with-dt\n",
    "  - other things\n",
    "- model number of taxis at a given time\n",
    "- model taxis as specific entities (Kalman filter?)\n",
    "  - use time and location ids\n",
    "  - probability of paths of taxis\n",
    "  - ...\n",
    "- other things?"
   ]
  },
  {
   "cell_type": "markdown",
   "metadata": {},
   "source": [
    "### disconnect from the server or shutdown the server"
   ]
  },
  {
   "cell_type": "code",
   "execution_count": 27,
   "metadata": {},
   "outputs": [
    {
     "name": "stderr",
     "output_type": "stream",
     "text": [
      "disconnected from arkouda server tcp://*:5555\n"
     ]
    },
    {
     "ename": "RuntimeError",
     "evalue": "not connected, cannot shutdown server",
     "output_type": "error",
     "traceback": [
      "\u001B[0;31m---------------------------------------------------------------------------\u001B[0m",
      "\u001B[0;31mRuntimeError\u001B[0m                              Traceback (most recent call last)",
      "\u001B[0;32m<ipython-input-27-645fae9d1b34>\u001B[0m in \u001B[0;36m<module>\u001B[0;34m\u001B[0m\n\u001B[1;32m      1\u001B[0m \u001B[0;31m# disconnect or shutdown the server\u001B[0m\u001B[0;34m\u001B[0m\u001B[0;34m\u001B[0m\u001B[0m\n\u001B[1;32m      2\u001B[0m \u001B[0mak\u001B[0m\u001B[0;34m.\u001B[0m\u001B[0mdisconnect\u001B[0m\u001B[0;34m(\u001B[0m\u001B[0;34m)\u001B[0m\u001B[0;34m\u001B[0m\u001B[0m\n\u001B[0;32m----> 3\u001B[0;31m \u001B[0mak\u001B[0m\u001B[0;34m.\u001B[0m\u001B[0mshutdown\u001B[0m\u001B[0;34m(\u001B[0m\u001B[0;34m)\u001B[0m\u001B[0;34m\u001B[0m\u001B[0m\n\u001B[0m\u001B[1;32m      4\u001B[0m \u001B[0;34m\u001B[0m\u001B[0m\n",
      "\u001B[0;32m~/PycharmProjects/arkouda/arkouda/client.py\u001B[0m in \u001B[0;36mshutdown\u001B[0;34m()\u001B[0m\n\u001B[1;32m    494\u001B[0m \u001B[0;34m\u001B[0m\u001B[0m\n\u001B[1;32m    495\u001B[0m     \u001B[0;32mif\u001B[0m \u001B[0;32mnot\u001B[0m \u001B[0mconnected\u001B[0m\u001B[0;34m:\u001B[0m\u001B[0;34m\u001B[0m\u001B[0m\n\u001B[0;32m--> 496\u001B[0;31m         \u001B[0;32mraise\u001B[0m \u001B[0mRuntimeError\u001B[0m\u001B[0;34m(\u001B[0m\u001B[0;34m'not connected, cannot shutdown server'\u001B[0m\u001B[0;34m)\u001B[0m\u001B[0;34m\u001B[0m\u001B[0m\n\u001B[0m\u001B[1;32m    497\u001B[0m     \u001B[0;31m# send shutdown message to server\u001B[0m\u001B[0;34m\u001B[0m\u001B[0;34m\u001B[0m\u001B[0m\n\u001B[1;32m    498\u001B[0m     \u001B[0mmessage\u001B[0m \u001B[0;34m=\u001B[0m \u001B[0;34m\"shutdown\"\u001B[0m\u001B[0;34m\u001B[0m\u001B[0m\n",
      "\u001B[0;31mRuntimeError\u001B[0m: not connected, cannot shutdown server"
     ]
    }
   ],
   "source": [
    "# disconnect or shutdown the server\n",
    "ak.shutdown()\n",
    "ak.disconnect()"
   ]
  },
  {
   "cell_type": "code",
   "execution_count": null,
   "metadata": {},
   "outputs": [],
   "source": []
  }
 ],
 "metadata": {
  "kernelspec": {
   "display_name": "Python 3",
   "language": "python",
   "name": "python3"
  },
  "language_info": {
   "codemirror_mode": {
    "name": "ipython",
    "version": 3
   },
   "file_extension": ".py",
   "mimetype": "text/x-python",
   "name": "python",
   "nbconvert_exporter": "python",
   "pygments_lexer": "ipython3",
   "version": "3.8.6"
  }
 },
 "nbformat": 4,
 "nbformat_minor": 4
}