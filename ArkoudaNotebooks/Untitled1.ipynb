{
 "cells": [
  {
   "cell_type": "code",
   "execution_count": 1,
   "metadata": {},
   "outputs": [
    {
     "name": "stdout",
     "output_type": "stream",
     "text": [
      "    _         _                   _       \n",
      "   / \\   _ __| | _____  _   _  __| | __ _ \n",
      "  / _ \\ | '__| |/ / _ \\| | | |/ _` |/ _` |\n",
      " / ___ \\| |  |   < (_) | |_| | (_| | (_| |\n",
      "/_/   \\_\\_|  |_|\\_\\___/ \\__,_|\\__,_|\\__,_|\n",
      "                                          \n",
      "\n",
      "Client Version: v2021.06.29-1+18.g6468d9f.dirty\n"
     ]
    }
   ],
   "source": [
    "import arkouda as ak"
   ]
  },
  {
   "cell_type": "code",
   "execution_count": 2,
   "metadata": {
    "scrolled": true
   },
   "outputs": [
    {
     "name": "stderr",
     "output_type": "stream",
     "text": [
      "/home/andrej/Documents/mergeTest/arkouda/arkouda/client.py:153: RuntimeWarning: Version mismatch between client (v2021.06.29-1+18.g6468d9f.dirty) and server (v2021.06.29.1+18.g6468d9f.dirty); this may cause some commands to fail or behave incorrectly! Updating arkouda is strongly recommended.\n",
      "  warnings.warn(('Version mismatch between client ({}) and server ({}); ' +\n",
      "connected to arkouda server tcp://*:5555\n"
     ]
    },
    {
     "name": "stdout",
     "output_type": "stream",
     "text": [
      "duzina dep je  0\n",
      "duzina buf je 1\n",
      "cmd= getconfig\n"
     ]
    }
   ],
   "source": [
    "ak.connect(connect_url='tcp://andrej-X556UQ:5555')"
   ]
  },
  {
   "cell_type": "code",
   "execution_count": 6,
   "metadata": {},
   "outputs": [
    {
     "name": "stdout",
     "output_type": "stream",
     "text": [
      "Uncaching  id_1\n",
      "New cache length  0\n",
      "create with name id_3 id_1\n",
      "Caching  id_2\n",
      "Caching  id_2\n",
      "duzina dep je  0\n",
      "duzina buf je 2\n",
      "cmd= str\n",
      "[0]\n"
     ]
    }
   ],
   "source": [
    "a = ak.randint(0,100,1)\n",
    "print(a)"
   ]
  },
  {
   "cell_type": "code",
   "execution_count": 4,
   "metadata": {},
   "outputs": [],
   "source": [
    "a = a*3"
   ]
  },
  {
   "cell_type": "code",
   "execution_count": 5,
   "metadata": {},
   "outputs": [
    {
     "name": "stdout",
     "output_type": "stream",
     "text": [
      "duzina dep je  1\n",
      "duzina buf je 2\n",
      "cmd= binopvs\n",
      "id_2   id_2\n",
      "cmd= str\n",
      "Caching  id_1\n",
      "Caching  id_1\n",
      "[0]\n"
     ]
    }
   ],
   "source": [
    "print(a)"
   ]
  },
  {
   "cell_type": "code",
   "execution_count": 18,
   "metadata": {},
   "outputs": [
    {
     "name": "stdout",
     "output_type": "stream",
     "text": [
      "Uncaching  id_5\n",
      "New cache length  0\n",
      "create with name id_12 id_5\n",
      "Caching  id_10\n",
      "Caching  id_6\n",
      "[585]\n"
     ]
    }
   ],
   "source": [
    "b = ak.randint(0,100,1)\n",
    "print(b)"
   ]
  },
  {
   "cell_type": "code",
   "execution_count": 7,
   "metadata": {},
   "outputs": [],
   "source": [
    "b = b*3"
   ]
  },
  {
   "cell_type": "code",
   "execution_count": 16,
   "metadata": {},
   "outputs": [
    {
     "name": "stdout",
     "output_type": "stream",
     "text": [
      "[88]\n"
     ]
    }
   ],
   "source": [
    "print(b)"
   ]
  },
  {
   "cell_type": "code",
   "execution_count": null,
   "metadata": {},
   "outputs": [],
   "source": []
  },
  {
   "cell_type": "code",
   "execution_count": null,
   "metadata": {},
   "outputs": [],
   "source": []
  }
 ],
 "metadata": {
  "kernelspec": {
   "display_name": "Python 3",
   "language": "python",
   "name": "python3"
  },
  "language_info": {
   "codemirror_mode": {
    "name": "ipython",
    "version": 3
   },
   "file_extension": ".py",
   "mimetype": "text/x-python",
   "name": "python",
   "nbconvert_exporter": "python",
   "pygments_lexer": "ipython3",
   "version": "3.8.5"
  }
 },
 "nbformat": 4,
 "nbformat_minor": 4
}
