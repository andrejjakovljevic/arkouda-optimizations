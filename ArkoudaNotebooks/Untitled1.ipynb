{
 "cells": [
  {
   "cell_type": "code",
   "execution_count": 20,
   "metadata": {},
   "outputs": [],
   "source": [
    "import arkouda as ak"
   ]
  },
  {
   "cell_type": "code",
   "execution_count": 21,
   "metadata": {
    "scrolled": true
   },
   "outputs": [
    {
     "name": "stderr",
     "output_type": "stream",
     "text": [
      "connected to arkouda server tcp://*:5555\n"
     ]
    },
    {
     "name": "stdout",
     "output_type": "stream",
     "text": [
      "cmd= getconfig\n"
     ]
    }
   ],
   "source": [
    "ak.connect(connect_url='tcp://andrej-X556UQ:5555')"
   ]
  },
  {
   "cell_type": "code",
   "execution_count": 22,
   "metadata": {},
   "outputs": [
    {
     "name": "stdout",
     "output_type": "stream",
     "text": [
      "Uncaching  id_1\n",
      "New cache length  2\n",
      "arangeStore:\n",
      "create with name id_11 id_1\n",
      "cmd= arangeStore\n",
      "cmd= str\n",
      "[0 1 2 3 4]\n"
     ]
    }
   ],
   "source": [
    "a = ak.arange(0, 5, 1)\n",
    "print(a)"
   ]
  },
  {
   "cell_type": "code",
   "execution_count": 23,
   "metadata": {},
   "outputs": [
    {
     "name": "stdout",
     "output_type": "stream",
     "text": [
      "Uncaching  id_4\n",
      "New cache length  1\n",
      "binopvsStore:\n",
      "create with name id_12 id_4\n"
     ]
    }
   ],
   "source": [
    "a = a*3"
   ]
  },
  {
   "cell_type": "code",
   "execution_count": 24,
   "metadata": {},
   "outputs": [
    {
     "name": "stdout",
     "output_type": "stream",
     "text": [
      "cmd= binopvsStore\n",
      "id_12   id_4\n",
      "cmd= str\n",
      "[0 3 6 9 12]\n"
     ]
    }
   ],
   "source": [
    "print(a)"
   ]
  },
  {
   "cell_type": "code",
   "execution_count": 25,
   "metadata": {},
   "outputs": [
    {
     "name": "stdout",
     "output_type": "stream",
     "text": [
      "Uncaching  id_3\n",
      "New cache length  0\n",
      "Caching  id_1\n",
      "arangeStore:\n",
      "create with name id_13 id_3\n",
      "Caching  id_6\n",
      "cmd= arangeStore\n",
      "cmd= str\n",
      "[0 1 2 3 4]\n"
     ]
    }
   ],
   "source": [
    "b = ak.arange(0, 5, 1)\n",
    "print(b)"
   ]
  },
  {
   "cell_type": "code",
   "execution_count": 26,
   "metadata": {},
   "outputs": [
    {
     "name": "stdout",
     "output_type": "stream",
     "text": [
      "Uncaching  id_1\n",
      "New cache length  1\n",
      "binopvsStore:\n",
      "create with name id_14 id_1\n"
     ]
    }
   ],
   "source": [
    "b = b*3"
   ]
  },
  {
   "cell_type": "code",
   "execution_count": 27,
   "metadata": {},
   "outputs": [
    {
     "name": "stdout",
     "output_type": "stream",
     "text": [
      "cmd= binopvsStore\n",
      "id_14   id_1\n",
      "cmd= str\n",
      "Caching  id_3\n",
      "[0 3 6 9 12]\n"
     ]
    }
   ],
   "source": [
    "print(b)"
   ]
  },
  {
   "cell_type": "code",
   "execution_count": null,
   "metadata": {},
   "outputs": [],
   "source": []
  },
  {
   "cell_type": "code",
   "execution_count": null,
   "metadata": {},
   "outputs": [],
   "source": []
  }
 ],
 "metadata": {
  "kernelspec": {
   "display_name": "Python 3",
   "language": "python",
   "name": "python3"
  },
  "language_info": {
   "codemirror_mode": {
    "name": "ipython",
    "version": 3
   },
   "file_extension": ".py",
   "mimetype": "text/x-python",
   "name": "python",
   "nbconvert_exporter": "python",
   "pygments_lexer": "ipython3",
   "version": "3.8.5"
  }
 },
 "nbformat": 4,
 "nbformat_minor": 4
}
